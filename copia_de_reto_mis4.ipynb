{
  "nbformat": 4,
  "nbformat_minor": 0,
  "metadata": {
    "colab": {
      "provenance": [],
      "include_colab_link": true
    },
    "kernelspec": {
      "name": "python3",
      "display_name": "Python 3"
    },
    "language_info": {
      "name": "python"
    }
  },
  "cells": [
    {
      "cell_type": "markdown",
      "metadata": {
        "id": "view-in-github",
        "colab_type": "text"
      },
      "source": [
        "<a href=\"https://colab.research.google.com/github/Tobon74/Reto-semana-4/blob/main/copia_de_reto_mis4.ipynb\" target=\"_parent\"><img src=\"https://colab.research.google.com/assets/colab-badge.svg\" alt=\"Open In Colab\"/></a>"
      ]
    },
    {
      "cell_type": "markdown",
      "source": [
        "# Reto 1 MIS4 Fundamentos Ciencia de Datos.\n",
        "\n",
        "Hola te doy la bienvenida a tu reto, recuerda que:\n",
        "\n",
        "1.\tDebes realizar una copia de este Colab en tu Drive personal.\n",
        "2.\tResuelve el reto en la copia que realizaste.\n",
        "3.\tEnvía la liga pública de tu reto resuelto a través del canal general.\n",
        "\n",
        "\n",
        "Realiza lo siguiente:\n",
        "\n",
        "1) Vamos a crear una clase donde el cliente apertura una cuenta nueva en un banco.\n",
        "\n",
        "2) Cada vez que un cliente nuevo, aperture una cuenta nueva, debe comenzar con un saldo de $0.\n",
        "\n",
        "3) Además de lo anterior, debe existir un método que genere ingresos de depósitos y egresos.\n",
        "\n",
        "Nota: No debe existir saldo menor a 0. Genera una alerta sobre este tipo de operaciones."
      ],
      "metadata": {
        "id": "X1HlXkmFLx47"
      }
    },
    {
      "cell_type": "code",
      "execution_count": null,
      "metadata": {
        "id": "VqqfSFCVLwga"
      },
      "outputs": [],
      "source": [
        "# 1) Rellenar los espacios ____\n",
        "class Cuenta:\n",
        "\n",
        "    def __init__(self):\n",
        "      self.saldo = 0\n",
        "      print(f'Tu saldo es: {self.saldo}')\n",
        "\n",
        "    def ingreso(self, ingreso):\n",
        "        self.saldo = self.saldo + ingreso\n",
        "        print(f'Tu saldo es: {self.saldo}')\n",
        "\n",
        "    def egreso(self, egreso):\n",
        "        if self.saldo - egreso < 0:\n",
        "          print(\"No se tiene saldo suficiente\")\n",
        "        else:\n",
        "          self.saldo = self.saldo - egreso\n",
        "          print(f'Tu saldo es: {self.saldo}')"
      ]
    },
    {
      "cell_type": "code",
      "source": [
        "Alex = Cuenta()"
      ],
      "metadata": {
        "colab": {
          "base_uri": "https://localhost:8080/"
        },
        "id": "DZMmMZUbOO_a",
        "outputId": "b832d081-24b2-4040-d084-450d36095822"
      },
      "execution_count": null,
      "outputs": [
        {
          "output_type": "stream",
          "name": "stdout",
          "text": [
            "Tu saldo es: 0\n"
          ]
        }
      ]
    },
    {
      "cell_type": "code",
      "source": [
        "Alex.ingreso(100)"
      ],
      "metadata": {
        "colab": {
          "base_uri": "https://localhost:8080/"
        },
        "id": "r7HYL_wdOVFm",
        "outputId": "c1ae24a8-03e3-436b-817a-f8bdd4aa83d6"
      },
      "execution_count": null,
      "outputs": [
        {
          "output_type": "stream",
          "name": "stdout",
          "text": [
            "Tu saldo es: 100\n"
          ]
        }
      ]
    },
    {
      "cell_type": "code",
      "source": [
        "Alex.egreso(150)"
      ],
      "metadata": {
        "colab": {
          "base_uri": "https://localhost:8080/"
        },
        "id": "k4SMfFK5Ofje",
        "outputId": "034ed038-5b7b-4f55-c6b4-6efa5b42f9c9"
      },
      "execution_count": null,
      "outputs": [
        {
          "output_type": "stream",
          "name": "stdout",
          "text": [
            "No se tiene saldo suficiente\n"
          ]
        }
      ]
    },
    {
      "cell_type": "code",
      "source": [
        "Alex.egreso(50)"
      ],
      "metadata": {
        "colab": {
          "base_uri": "https://localhost:8080/"
        },
        "id": "-5NbnD4nO165",
        "outputId": "36ec2e75-58df-4c3c-b8ca-a2455ae78d8e"
      },
      "execution_count": null,
      "outputs": [
        {
          "output_type": "stream",
          "name": "stdout",
          "text": [
            "Tu saldo es: 50\n"
          ]
        }
      ]
    },
    {
      "cell_type": "markdown",
      "source": [
        "# Reto alto Nivel (opcional)\n",
        "En un cajero hay clientes que pueden hacer depósitos y retiros de dinero. Además al final del día, se calcula  la cantidad de dinero que se ha depositado.\n",
        "\n",
        "Se deberán crear dos clases: La clase cliente y la clase cajero.\n",
        "\n",
        "La clase cliente tendrá los atributos nombre, cantidad y los métodos __init__, depositar, retirar, mostrar_todo.\n",
        "\n",
        "La clase  cajero tendrá como atributos 3 objetos de la clase cliente y los métodos __init__, operar y deposito_total.\n",
        "\n",
        "Puedes consultar en tu sesión de dudas si resolviste bien este reto."
      ],
      "metadata": {
        "id": "HTcl7hknelUv"
      }
    },
    {
      "cell_type": "markdown",
      "source": [
        "Eso es todo por ahora, no olvides socializar tus respuestas en el *canal general * y consultar a tu coach cualquier duda que tengas.\n",
        "¡Que tengas mucho éxito!\n",
        "\n"
      ],
      "metadata": {
        "id": "iY5R7JP67Xb8"
      }
    },
    {
      "cell_type": "code",
      "source": [
        "# Paso 1: Creamos la clase Cliente, con métodos para depositar, retirar y mostrar información\n",
        "class Cliente:\n",
        "    def __init__(self, nombre):\n",
        "        self.nombre = nombre\n",
        "        self.cantidad = 0\n",
        "\n",
        "    def depositar(self, monto):\n",
        "        if monto > 0:\n",
        "            self.cantidad += monto\n",
        "            print(f\"{self.nombre} depositó ${monto}. Saldo actual: ${self.cantidad}\")\n",
        "        else:\n",
        "            print(\"⚠️ El monto del depósito debe ser mayor a 0.\")\n",
        "\n",
        "    def retirar(self, monto):\n",
        "        if monto <= self.cantidad:\n",
        "            self.cantidad -= monto\n",
        "            print(f\"{self.nombre} retiró ${monto}. Saldo actual: ${self.cantidad}\")\n",
        "        else:\n",
        "            print(f\"⚠️ {self.nombre} no tiene suficiente saldo para retirar ${monto}.\")\n",
        "\n",
        "    def mostrar_todo(self):\n",
        "        print(f\"🧾 Cliente: {self.nombre}, Saldo final: ${self.cantidad}\")\n"
      ],
      "metadata": {
        "id": "cXnjIfTgsh5-"
      },
      "execution_count": null,
      "outputs": []
    },
    {
      "cell_type": "code",
      "source": [
        "# Paso 2: Creamos la clase Cajero, que administra a 3 clientes\n",
        "class Cajero:\n",
        "    def __init__(self, cliente1, cliente2, cliente3):\n",
        "        self.clientes = [cliente1, cliente2, cliente3]\n",
        "\n",
        "    def operar(self):\n",
        "        for cliente in self.clientes:\n",
        "            print(f\"\\n👉 Operaciones para {cliente.nombre}\")\n",
        "            deposito = float(input(f\"Ingrese el monto a depositar para {cliente.nombre}: \"))\n",
        "            cliente.depositar(deposito)\n",
        "\n",
        "            retiro = float(input(f\"Ingrese el monto a retirar para {cliente.nombre}: \"))\n",
        "            cliente.retirar(retiro)\n",
        "\n",
        "    def deposito_total(self):\n",
        "        total = sum(cliente.cantidad for cliente in self.clientes)\n",
        "        print(f\"\\n💰 Total de dinero al final del día: ${total}\")\n",
        "        return total"
      ],
      "metadata": {
        "id": "7cY0nT4sstcx"
      },
      "execution_count": null,
      "outputs": []
    },
    {
      "cell_type": "code",
      "source": [
        "# Paso 3: Pedimos al usuario los nombres de los 3 clientes\n",
        "nombre1 = input(\"Ingrese el nombre del Cliente 1: \")\n",
        "nombre2 = input(\"Ingrese el nombre del Cliente 2: \")\n",
        "nombre3 = input(\"Ingrese el nombre del Cliente 3: \")"
      ],
      "metadata": {
        "colab": {
          "base_uri": "https://localhost:8080/"
        },
        "id": "-LUglA0OsyRr",
        "outputId": "346659af-a25d-40c1-dd11-b76977966c76"
      },
      "execution_count": null,
      "outputs": [
        {
          "name": "stdout",
          "output_type": "stream",
          "text": [
            "Ingrese el nombre del Cliente 1: 3\n",
            "Ingrese el nombre del Cliente 2: 1\n",
            "Ingrese el nombre del Cliente 3: 2\n"
          ]
        }
      ]
    },
    {
      "cell_type": "code",
      "source": [
        " #Paso 4: Creamos los objetos Cliente\n",
        "cliente1 = Cliente(nombre1)\n",
        "cliente2 = Cliente(nombre2)\n",
        "cliente3 = Cliente(nombre3)"
      ],
      "metadata": {
        "id": "fudjBIQ5s7ZZ"
      },
      "execution_count": null,
      "outputs": []
    },
    {
      "cell_type": "code",
      "source": [
        "# Paso 5: Creamos el Cajero con los 3 clientes\n",
        "cajero = Cajero(cliente1, cliente2, cliente3)"
      ],
      "metadata": {
        "id": "81hfq2qYtOCM"
      },
      "execution_count": null,
      "outputs": []
    },
    {
      "cell_type": "code",
      "source": [
        "# Paso 6: Ejecutamos las operaciones interactivas\n",
        "cajero.operar()"
      ],
      "metadata": {
        "colab": {
          "base_uri": "https://localhost:8080/"
        },
        "id": "-QuxXwcKtSqw",
        "outputId": "2b623d9c-f3b4-4261-dc51-9d2c96fc686c"
      },
      "execution_count": null,
      "outputs": [
        {
          "output_type": "stream",
          "name": "stdout",
          "text": [
            "\n",
            "👉 Operaciones para 3\n",
            "Ingrese el monto a depositar para 3: 10000\n",
            "3 depositó $10000.0. Saldo actual: $10000.0\n",
            "Ingrese el monto a retirar para 3: 5000\n",
            "3 retiró $5000.0. Saldo actual: $5000.0\n",
            "\n",
            "👉 Operaciones para 1\n",
            "Ingrese el monto a depositar para 1: 500\n",
            "1 depositó $500.0. Saldo actual: $500.0\n",
            "Ingrese el monto a retirar para 1: 56636\n",
            "⚠️ 1 no tiene suficiente saldo para retirar $56636.0.\n",
            "\n",
            "👉 Operaciones para 2\n",
            "Ingrese el monto a depositar para 2: 20\n",
            "2 depositó $20.0. Saldo actual: $20.0\n",
            "Ingrese el monto a retirar para 2: 10\n",
            "2 retiró $10.0. Saldo actual: $10.0\n"
          ]
        }
      ]
    },
    {
      "cell_type": "code",
      "source": [
        "# Paso 7: Mostramos información final de cada cliente\n",
        "print(\"\\n📋 Resumen de clientes:\")\n",
        "cliente1.mostrar_todo()\n",
        "cliente2.mostrar_todo()\n",
        "cliente3.mostrar_todo()"
      ],
      "metadata": {
        "colab": {
          "base_uri": "https://localhost:8080/"
        },
        "id": "Skd34bePti1v",
        "outputId": "f45d39d1-5b25-4c04-8b3f-733bcc4fc169"
      },
      "execution_count": null,
      "outputs": [
        {
          "output_type": "stream",
          "name": "stdout",
          "text": [
            "\n",
            "📋 Resumen de clientes:\n",
            "🧾 Cliente: 3, Saldo final: $5000.0\n",
            "🧾 Cliente: 1, Saldo final: $500.0\n",
            "🧾 Cliente: 2, Saldo final: $10.0\n"
          ]
        }
      ]
    },
    {
      "cell_type": "code",
      "source": [
        "# Paso 8: Mostramos el total de depósitos al final del día\n",
        "cajero.deposito_total()"
      ],
      "metadata": {
        "colab": {
          "base_uri": "https://localhost:8080/"
        },
        "id": "ZN3Ps-HGtoKQ",
        "outputId": "1f8759b8-31c4-4c50-e7b2-1b0ac5701c9d"
      },
      "execution_count": null,
      "outputs": [
        {
          "output_type": "stream",
          "name": "stdout",
          "text": [
            "\n",
            "💰 Total de dinero al final del día: $5510.0\n"
          ]
        },
        {
          "output_type": "execute_result",
          "data": {
            "text/plain": [
              "5510.0"
            ]
          },
          "metadata": {},
          "execution_count": 14
        }
      ]
    }
  ]
}